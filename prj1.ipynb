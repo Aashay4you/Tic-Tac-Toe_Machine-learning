{
 "cells": [
  {
   "cell_type": "code",
   "execution_count": 1,
   "id": "d85cd902-6a3e-41d3-bde7-6e99b838a2ff",
   "metadata": {},
   "outputs": [
    {
     "name": "stdout",
     "output_type": "stream",
     "text": [
      "n_states = 19683 \n",
      "n_actions = 9\n"
     ]
    }
   ],
   "source": [
    "#Reinforcement learning\n",
    "import numpy as np\n",
    "from math import inf as infinity\n",
    "import itertools\n",
    "import random\n",
    "\n",
    "game_state = [[' ',' ',' '],\n",
    "              [' ',' ',' '],\n",
    "              [' ',' ',' ']]\n",
    "players = ['X','O']\n",
    "\n",
    "def play_move(state, player, block_num):\n",
    "    if state[int((block_num-1)/3)][(block_num-1)%3] == ' ':\n",
    "        state[int((block_num-1)/3)][(block_num-1)%3] = player\n",
    "    else:\n",
    "        block_num = int(input(\"Block != empty, Choose again: \"))\n",
    "        play_move(state, player, block_num)\n",
    "    \n",
    "def copy_game_state(state):\n",
    "    new_state = [[' ',' ',' '],[' ',' ',' '],[' ',' ',' ']]\n",
    "    for i in range(3):\n",
    "        for j in range(3):\n",
    "            new_state[i][j] = state[i][j]\n",
    "    return new_state\n",
    "    \n",
    "def check_current_state(game_state):    \n",
    "    # Check horizontals\n",
    "    if (game_state[0][0] == game_state[0][1] and game_state[0][1] == game_state[0][2] and game_state[0][0] != ' '):\n",
    "        return game_state[0][0], \"Done\"\n",
    "    if (game_state[1][0] == game_state[1][1] and game_state[1][1] == game_state[1][2] and game_state[1][0] != ' '):\n",
    "        return game_state[1][0], \"Done\"\n",
    "    if (game_state[2][0] == game_state[2][1] and game_state[2][1] == game_state[2][2] and game_state[2][0] != ' '):\n",
    "        return game_state[2][0], \"Done\"\n",
    "    \n",
    "    # Check verticals\n",
    "    if (game_state[0][0] == game_state[1][0] and game_state[1][0] == game_state[2][0] and game_state[0][0] != ' '):\n",
    "        return game_state[0][0], \"Done\"\n",
    "    if (game_state[0][1] == game_state[1][1] and game_state[1][1] == game_state[2][1] and game_state[0][1] != ' '):\n",
    "        return game_state[0][1], \"Done\"\n",
    "    if (game_state[0][2] == game_state[1][2] and game_state[1][2] == game_state[2][2] and game_state[0][2] != ' '):\n",
    "        return game_state[0][2], \"Done\"\n",
    "    \n",
    "    # Check diagonals\n",
    "    if (game_state[0][0] == game_state[1][1] and game_state[1][1] == game_state[2][2] and game_state[0][0] != ' '):\n",
    "        return game_state[1][1], \"Done\"\n",
    "    if (game_state[2][0] == game_state[1][1] and game_state[1][1] == game_state[0][2] and game_state[2][0] != ' '):\n",
    "        return game_state[1][1], \"Done\"\n",
    "    \n",
    "    # Check if draw\n",
    "    draw_flag = 0\n",
    "    for i in range(3):\n",
    "        for j in range(3):\n",
    "            if game_state[i][j] == ' ':\n",
    "                draw_flag = 1\n",
    "    if draw_flag == 0:\n",
    "        return None, \"Draw\"\n",
    "    \n",
    "    return None, \"Not Done\"\n",
    "\n",
    "def print_board(game_state):\n",
    "    print('----------------')\n",
    "    print('| ' + str(game_state[0][0]) + ' || ' + str(game_state[0][1]) + ' || ' + str(game_state[0][2]) + ' |')\n",
    "    print('----------------')\n",
    "    print('| ' + str(game_state[1][0]) + ' || ' + str(game_state[1][1]) + ' || ' + str(game_state[1][2]) + ' |')\n",
    "    print('----------------')\n",
    "    print('| ' + str(game_state[2][0]) + ' || ' + str(game_state[2][1]) + ' || ' + str(game_state[2][2]) + ' |')\n",
    "    print('----------------')\n",
    "    \n",
    "  \n",
    "# Initialize state values\n",
    "player = ['X','O',' ']\n",
    "states_dict = {}\n",
    "all_possible_states = [[list(i[0:3]),list(i[3:6]),list(i[6:10])] for i in itertools.product(player, repeat = 9)]\n",
    "n_states = len(all_possible_states) # 2 players, 9 spaces\n",
    "n_actions = 9   # 9 spaces\n",
    "state_values_for_AI = np.full((n_states),0.0)\n",
    "print(\"n_states = %i \\nn_actions = %i\"%(n_states, n_actions))\n",
    "\n",
    "for i in range(n_states):\n",
    "    states_dict[i] = all_possible_states[i]\n",
    "    winner, _ = check_current_state(states_dict[i])\n",
    "    if winner == 'O':   # AI won\n",
    "        state_values_for_AI[i] = 1\n",
    "    elif winner == 'X':   # AI lost\n",
    "        state_values_for_AI[i] = -1\n",
    "\n",
    "def update_state_value(curr_state_idx, next_state_idx, learning_rate):\n",
    "    new_value = state_values_for_AI[curr_state_idx] + learning_rate*(state_values_for_AI[next_state_idx]  - state_values_for_AI[curr_state_idx])\n",
    "    state_values_for_AI[curr_state_idx] = new_value\n",
    "    "
   ]
  },
  {
   "cell_type": "code",
   "execution_count": 3,
   "id": "1082d852-110a-44c9-8a0a-fbcb7e393145",
   "metadata": {},
   "outputs": [],
   "source": [
    "def getBestMove(state, player):\n",
    "    '''\n",
    "    Reinforcement Learning Algorithm\n",
    "    '''    \n",
    "    moves = []\n",
    "    curr_state_values = []\n",
    "    empty_cells = []\n",
    "    for i in range(3):\n",
    "        for j in range(3):\n",
    "            if state[i][j] == ' ':\n",
    "                empty_cells.append(i*3 + (j+1))\n",
    "    \n",
    "    for empty_cell in empty_cells:\n",
    "        moves.append(empty_cell)\n",
    "        new_state = copy_game_state(state)\n",
    "        play_move(new_state, player, empty_cell)\n",
    "        next_state_idx = list(states_dict.keys())[list(states_dict.values()).index(new_state)]\n",
    "        curr_state_values.append(state_values_for_AI[next_state_idx])\n",
    "        \n",
    "    print('Possible moves = ' + str(moves))\n",
    "    print('Move values = ' + str(curr_state_values))    \n",
    "    best_move_idx = np.argmax(curr_state_values)\n",
    "    best_move = moves[best_move_idx]\n",
    "    return best_move  "
   ]
  },
  {
   "cell_type": "code",
   "execution_count": 5,
   "id": "37ab0f5e-33cc-4b02-9679-b65155dc3000",
   "metadata": {},
   "outputs": [
    {
     "name": "stdout",
     "output_type": "stream",
     "text": [
      "\n",
      "New Game!\n",
      "----------------\n",
      "|   ||   ||   |\n",
      "----------------\n",
      "|   ||   ||   |\n",
      "----------------\n",
      "|   ||   ||   |\n",
      "----------------\n"
     ]
    },
    {
     "name": "stdin",
     "output_type": "stream",
     "text": [
      "Choose which player goes first - X (You) or O(AI):  x\n",
      "Your turn! Choose where to place (1 to 9):  1\n"
     ]
    },
    {
     "name": "stdout",
     "output_type": "stream",
     "text": [
      "----------------\n",
      "| X ||   ||   |\n",
      "----------------\n",
      "|   ||   ||   |\n",
      "----------------\n",
      "|   ||   ||   |\n",
      "----------------\n",
      "Possible moves = [2, 3, 4, 5, 6, 7, 8, 9]\n",
      "Move values = [-0.175858, 0.01031, -0.051866, 0.250661, -0.008078, 0.013969, -0.002939, -0.00299]\n",
      "AI plays move: 5\n",
      "----------------\n",
      "| X ||   ||   |\n",
      "----------------\n",
      "|   || O ||   |\n",
      "----------------\n",
      "|   ||   ||   |\n",
      "----------------\n"
     ]
    },
    {
     "name": "stdin",
     "output_type": "stream",
     "text": [
      "Your turn! Choose where to place (1 to 9):  3\n"
     ]
    },
    {
     "name": "stdout",
     "output_type": "stream",
     "text": [
      "----------------\n",
      "| X ||   || X |\n",
      "----------------\n",
      "|   || O ||   |\n",
      "----------------\n",
      "|   ||   ||   |\n",
      "----------------\n",
      "Possible moves = [2, 4, 6, 7, 8, 9]\n",
      "Move values = [0.16, 0.8524, 0.696045, 0.052938, 0.12, -0.137713]\n",
      "AI plays move: 4\n",
      "----------------\n",
      "| X ||   || X |\n",
      "----------------\n",
      "| O || O ||   |\n",
      "----------------\n",
      "|   ||   ||   |\n",
      "----------------\n"
     ]
    },
    {
     "name": "stdin",
     "output_type": "stream",
     "text": [
      "Your turn! Choose where to place (1 to 9):  2\n"
     ]
    },
    {
     "name": "stdout",
     "output_type": "stream",
     "text": [
      "----------------\n",
      "| X || X || X |\n",
      "----------------\n",
      "| O || O ||   |\n",
      "----------------\n",
      "|   ||   ||   |\n",
      "----------------\n",
      "X won!\n"
     ]
    },
    {
     "name": "stdin",
     "output_type": "stream",
     "text": [
      "Wanna try again?(Y/N) :  n\n"
     ]
    },
    {
     "name": "stdout",
     "output_type": "stream",
     "text": [
      "gd game!\n"
     ]
    }
   ],
   "source": [
    "# PLaying\n",
    "    \n",
    "state_values_for_AI = np.loadtxt(\"trained_state_values_O.txt\", dtype=np.float64)\n",
    "\n",
    "play_again = 'Y'\n",
    "while play_again == 'Y' or play_again == 'y':\n",
    "    game_state = [[' ',' ',' '],\n",
    "              [' ',' ',' '],\n",
    "              [' ',' ',' ']]\n",
    "    current_state = \"Not Done\"\n",
    "    print(\"\\nNew Game!\")\n",
    "    print_board(game_state)\n",
    "    player_choice = input(\"Choose which player goes first - X (You) or O(AI): \")\n",
    "    winner = None\n",
    "    \n",
    "    if player_choice == 'X' or player_choice == 'x':\n",
    "        current_player_idx = 0\n",
    "    else:\n",
    "        current_player_idx = 1\n",
    "        \n",
    "    while current_state == \"Not Done\":\n",
    "        curr_state_idx = list(states_dict.keys())[list(states_dict.values()).index(game_state)]\n",
    "        if current_player_idx == 0: # Human's turn\n",
    "            block_choice = int(input(\"Your turn! Choose where to place (1 to 9): \"))\n",
    "            play_move(game_state ,players[current_player_idx], block_choice)\n",
    "            \n",
    "        else:   # AI's turn\n",
    "            block_choice = getBestMove(game_state, players[current_player_idx])\n",
    "            play_move(game_state ,players[current_player_idx], block_choice)\n",
    "            print(\"AI plays move: \" + str(block_choice))\n",
    "        \n",
    "        print_board(game_state)\n",
    "        winner, current_state = check_current_state(game_state)\n",
    "        if winner != None:\n",
    "            print(str(winner) + \" won!\")\n",
    "        else:\n",
    "            current_player_idx = (current_player_idx + 1)%2\n",
    "        \n",
    "        if current_state == \"Draw\":\n",
    "            print(\"Draw!\")\n",
    "            \n",
    "    play_again = input('Wanna try again?(Y/N) : ')\n",
    "print('gd game!')  "
   ]
  },
  {
   "cell_type": "code",
   "execution_count": 8,
   "id": "8f24046b-8f05-4ce9-b194-a8fa6c70465a",
   "metadata": {},
   "outputs": [
    {
     "data": {
      "image/png": "[encoded data removed]",
      "text/plain": [
       "<Figure size 1000x800 with 2 Axes>"
      ]
     },
     "metadata": {},
     "output_type": "display_data"
    }
   ],
   "source": [
    "import numpy as np\n",
    "import seaborn as sns\n",
    "import matplotlib.pyplot as plt\n",
    "\n",
    "state_values_for_AI = np.loadtxt('trained_state_values_O.txt', dtype=np.float64)\n",
    "\n",
    "# using this to copy the game data\n",
    "def copy_game_state(state):\n",
    "    new_state = [[' ', ' ', ' '], [' ', ' ', ' '], [' ', ' ', ' ']]\n",
    "    for i in range(3):\n",
    "        for j in range(3):\n",
    "            new_state[i][j] = state[i][j]\n",
    "    return new_state\n",
    "\n",
    "def play_move(state, player, block_num):\n",
    "    if state[int((block_num - 1) / 3)][(block_num - 1) % 3] == ' ':\n",
    "        state[int((block_num - 1) / 3)][(block_num - 1) % 3] = player\n",
    "\n",
    "# Select representative game states (manually or randomly)\n",
    "representative_states = [\n",
    "    [[' ', ' ', ' '], [' ', ' ', ' '], [' ', ' ', ' ']],  \n",
    "    [['X', 'O', 'X'], ['O', 'X', 'O'], [' ', ' ', 'X']],  \n",
    "    [['X', 'O', 'X'], ['O', 'X', 'O'], ['O', 'X', 'O']]   \n",
    "]\n",
    "\n",
    "# Calculate win probabilities for selected states\n",
    "win_probabilities = np.zeros((9, len(representative_states)))  # 9 moves x selected states\n",
    "\n",
    "for state_idx, state in enumerate(representative_states):\n",
    "    for move in range(1, 10):\n",
    "        row, col = (move - 1) // 3, (move - 1) % 3\n",
    "        if state[row][col] == ' ':  # Check if the cell is empty\n",
    "            new_state = copy_game_state(state)\n",
    "            play_move(new_state, 'O', move)  # Simulate AI's move ('O')\n",
    "            \n",
    "           \n",
    "            try:\n",
    "                next_state_idx = list(states_dict.keys())[list(states_dict.values()).index(new_state)]\n",
    "                win_probabilities[move - 1, state_idx] = state_values_for_AI[next_state_idx]\n",
    "            except ValueError:\n",
    "                win_probabilities[move - 1, state_idx] = 0  # Assign zero if state not found\n",
    "        else:\n",
    "            win_probabilities[move - 1, state_idx] = np.nan  # Mark invalid moves as NaN\n",
    "\n",
    "# Creating   a heatmap using Seaborn\n",
    "plt.figure(figsize=(10, 8))\n",
    "sns.heatmap(win_probabilities, annot=True, fmt=\".2f\", cmap=\"coolwarm\",\n",
    "            xticklabels=[f\"State {i+1}\" for i in range(len(representative_states))],\n",
    "            yticklabels=[f\"Move {i+1}\" for i in range(9)],\n",
    "            linewidths=0.5, linecolor='white', cbar=True)\n",
    "\n",
    "# Add labels and title\n",
    "plt.title(\"Win Predictor Heatmap\", fontsize=16)\n",
    "plt.xlabel(\"Game States\", fontsize=12)\n",
    "plt.ylabel(\"Possible Moves\", fontsize=12)\n",
    "\n",
    "# Show the plot\n",
    "plt.tight_layout()\n",
    "plt.show()\n"
   ]
  },
  {
   "cell_type": "code",
   "execution_count": null,
   "id": "a8270ade-fe80-4985-bd44-f9b62d083bc9",
   "metadata": {},
   "outputs": [],
   "source": []
  }
 ],
 "metadata": {
  "kernelspec": {
   "display_name": "Python 3 (ipykernel)",
   "language": "python",
   "name": "python3"
  },
  "language_info": {
   "codemirror_mode": {
    "name": "ipython",
    "version": 3
   },
   "file_extension": ".py",
   "mimetype": "text/x-python",
   "name": "python",
   "nbconvert_exporter": "python",
   "pygments_lexer": "ipython3",
   "version": "3.11.9"
  }
 },
 "nbformat": 4,
 "nbformat_minor": 5
}
